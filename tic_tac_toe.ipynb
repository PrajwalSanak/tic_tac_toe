{
 "cells": [
  {
   "cell_type": "code",
   "execution_count": 1,
   "metadata": {
    "executionInfo": {
     "elapsed": 1315,
     "status": "ok",
     "timestamp": 1604676464661,
     "user": {
      "displayName": "19CV048-Prajwal Sanak",
      "photoUrl": "https://lh3.googleusercontent.com/a-/AOh14GjE5TkjYCGdIj9RjJ2P2Kzy6Q12GfH8HIltlAEeXQ=s64",
      "userId": "16859030478321265716"
     },
     "user_tz": -330
    },
    "id": "lbIxSGRspWiZ"
   },
   "outputs": [],
   "source": [
    "from IPython.display import clear_output\n",
    "\n",
    "def display_board(board):\n",
    "    clear_output()\n",
    "    print(f' {board[7]} | {board[8]} | {board[9]} ')\n",
    "    print('-----------')   \n",
    "    print(f' {board[4]} | {board[5]} | {board[6]} ') \n",
    "    print('-----------')\n",
    "    print(f' {board[1]} | {board[2]} | {board[3]} ')\n",
    "    "
   ]
  },
  {
   "cell_type": "code",
   "execution_count": 2,
   "metadata": {
    "executionInfo": {
     "elapsed": 2178,
     "status": "ok",
     "timestamp": 1604676465526,
     "user": {
      "displayName": "19CV048-Prajwal Sanak",
      "photoUrl": "https://lh3.googleusercontent.com/a-/AOh14GjE5TkjYCGdIj9RjJ2P2Kzy6Q12GfH8HIltlAEeXQ=s64",
      "userId": "16859030478321265716"
     },
     "user_tz": -330
    },
    "id": "fh91dE-GpWic"
   },
   "outputs": [],
   "source": [
    "def player_input():\n",
    "    \n",
    "    player1 = None\n",
    "    player2 = None\n",
    "    \n",
    "    while player1 not in ['X','O']:\n",
    "        player1 = input('player 1: do you want X or O?').upper()\n",
    "        if player1 not in ['X','O']:\n",
    "            print('plz enter a valid choice X or O')\n",
    "            \n",
    "    if player1 == 'X':\n",
    "        player2 = '0'\n",
    "    else:\n",
    "        player2 = 'X'\n",
    "\n",
    "    return player1,player2\n",
    "\n",
    "    "
   ]
  },
  {
   "cell_type": "code",
   "execution_count": 3,
   "metadata": {
    "executionInfo": {
     "elapsed": 2176,
     "status": "ok",
     "timestamp": 1604676465526,
     "user": {
      "displayName": "19CV048-Prajwal Sanak",
      "photoUrl": "https://lh3.googleusercontent.com/a-/AOh14GjE5TkjYCGdIj9RjJ2P2Kzy6Q12GfH8HIltlAEeXQ=s64",
      "userId": "16859030478321265716"
     },
     "user_tz": -330
    },
    "id": "IFHf9Ig3pWif"
   },
   "outputs": [],
   "source": [
    "def place_marker(board, marker, position):\n",
    "    \n",
    "    board[position]=marker\n",
    "    \n",
    "    return board\n",
    "    "
   ]
  },
  {
   "cell_type": "code",
   "execution_count": 4,
   "metadata": {
    "executionInfo": {
     "elapsed": 2175,
     "status": "ok",
     "timestamp": 1604676465526,
     "user": {
      "displayName": "19CV048-Prajwal Sanak",
      "photoUrl": "https://lh3.googleusercontent.com/a-/AOh14GjE5TkjYCGdIj9RjJ2P2Kzy6Q12GfH8HIltlAEeXQ=s64",
      "userId": "16859030478321265716"
     },
     "user_tz": -330
    },
    "id": "cxjvhFvJpWih"
   },
   "outputs": [],
   "source": [
    "def win_check(board, mark):\n",
    "    \n",
    "    matches = [[1,2,3], [4,5,6], [7,8,9], [1,4,7], [2,5,8], [3,6,9], [1,5,9], [3,5,7]]\n",
    "    \n",
    "    for i in range(8):\n",
    "        if board[matches[i][0]]==board[matches[i][1]]==board[matches[i][2]]==mark:\n",
    "            return True\n",
    "    \n",
    "    return False\n",
    "    "
   ]
  },
  {
   "cell_type": "code",
   "execution_count": 5,
   "metadata": {
    "executionInfo": {
     "elapsed": 2174,
     "status": "ok",
     "timestamp": 1604676465527,
     "user": {
      "displayName": "19CV048-Prajwal Sanak",
      "photoUrl": "https://lh3.googleusercontent.com/a-/AOh14GjE5TkjYCGdIj9RjJ2P2Kzy6Q12GfH8HIltlAEeXQ=s64",
      "userId": "16859030478321265716"
     },
     "user_tz": -330
    },
    "id": "EE266kzBpWik"
   },
   "outputs": [],
   "source": [
    "import random\n",
    "\n",
    "def choose_first():\n",
    "    return random.randint(1,2)"
   ]
  },
  {
   "cell_type": "code",
   "execution_count": 6,
   "metadata": {
    "executionInfo": {
     "elapsed": 2173,
     "status": "ok",
     "timestamp": 1604676465527,
     "user": {
      "displayName": "19CV048-Prajwal Sanak",
      "photoUrl": "https://lh3.googleusercontent.com/a-/AOh14GjE5TkjYCGdIj9RjJ2P2Kzy6Q12GfH8HIltlAEeXQ=s64",
      "userId": "16859030478321265716"
     },
     "user_tz": -330
    },
    "id": "a2U7J1G6pWim"
   },
   "outputs": [],
   "source": [
    "def space_check(board, position):\n",
    "    \n",
    "    if board[position]==' ':\n",
    "        return True\n",
    "    else:\n",
    "        return False\n",
    "    "
   ]
  },
  {
   "cell_type": "code",
   "execution_count": 7,
   "metadata": {
    "executionInfo": {
     "elapsed": 2172,
     "status": "ok",
     "timestamp": 1604676465527,
     "user": {
      "displayName": "19CV048-Prajwal Sanak",
      "photoUrl": "https://lh3.googleusercontent.com/a-/AOh14GjE5TkjYCGdIj9RjJ2P2Kzy6Q12GfH8HIltlAEeXQ=s64",
      "userId": "16859030478321265716"
     },
     "user_tz": -330
    },
    "id": "ZXbFvJNjpWio"
   },
   "outputs": [],
   "source": [
    "def full_board_check(board):\n",
    "    \n",
    "    for i in range(1,10):\n",
    "        if board[i]==' ':\n",
    "            return False\n",
    "       \n",
    "    return True"
   ]
  },
  {
   "cell_type": "code",
   "execution_count": 8,
   "metadata": {
    "executionInfo": {
     "elapsed": 2172,
     "status": "ok",
     "timestamp": 1604676465529,
     "user": {
      "displayName": "19CV048-Prajwal Sanak",
      "photoUrl": "https://lh3.googleusercontent.com/a-/AOh14GjE5TkjYCGdIj9RjJ2P2Kzy6Q12GfH8HIltlAEeXQ=s64",
      "userId": "16859030478321265716"
     },
     "user_tz": -330
    },
    "id": "OlAAgHl5pWiq"
   },
   "outputs": [],
   "source": [
    "def player_choice(board):\n",
    "    position = None\n",
    "    while position == None:\n",
    "        position=(input('Enter a position'))\n",
    "        if position.isdigit() and int(position) in range(1,10):\n",
    "            position = int(position)\n",
    "            if space_check(board, position):\n",
    "                return position\n",
    "            else:\n",
    "                position = None\n",
    "                print('position is occupied')\n",
    "        else:\n",
    "            position=None\n",
    "            print('this position is invalid')\n",
    "   "
   ]
  },
  {
   "cell_type": "code",
   "execution_count": 9,
   "metadata": {
    "executionInfo": {
     "elapsed": 2171,
     "status": "ok",
     "timestamp": 1604676465529,
     "user": {
      "displayName": "19CV048-Prajwal Sanak",
      "photoUrl": "https://lh3.googleusercontent.com/a-/AOh14GjE5TkjYCGdIj9RjJ2P2Kzy6Q12GfH8HIltlAEeXQ=s64",
      "userId": "16859030478321265716"
     },
     "user_tz": -330
    },
    "id": "H0qUaIvopWis"
   },
   "outputs": [],
   "source": [
    "def replay():\n",
    "    replay = None\n",
    "    while replay == None:\n",
    "        replay = input('Do you want to play again Y or N: ')\n",
    "        if replay not in ['Y','N']:\n",
    "            replay = None \n",
    "            print('enter valid choice Y or N')\n",
    "        \n",
    "    if replay== 'Y':\n",
    "        return True\n",
    "    else:\n",
    "        return False"
   ]
  },
  {
   "cell_type": "code",
   "execution_count": null,
   "metadata": {
    "colab": {
     "base_uri": "https://localhost:8080/"
    },
    "id": "d3AzRS1UpWiu",
    "outputId": "299797d3-88a5-410b-96fe-cf6b3ee51d11",
    "scrolled": true
   },
   "outputs": [
    {
     "name": "stdout",
     "output_type": "stream",
     "text": [
      " X |   | O \n",
      "-----------\n",
      "   | X | O \n",
      "-----------\n",
      "   | O | X \n",
      "X won the game\n"
     ]
    }
   ],
   "source": [
    "print('Welcome to Tic Tac Toe!')\n",
    "\n",
    "\n",
    "#if choose_first()==1:\n",
    "   #     print('player1 goes first')\n",
    "   # else:\n",
    "     #   print('player2 goes first')\n",
    "    \n",
    "    \n",
    "    \n",
    "    \n",
    "game_on = True\n",
    "while game_on:\n",
    "    # Set the game up here\n",
    "    board = ['#', ' ', ' ', ' ', ' ', ' ', ' ', ' ', ' ',' ']\n",
    "    player1, player2 = player_input() \n",
    "    print('player1 will go first')\n",
    "    \n",
    "    game=True\n",
    "    \n",
    "     \n",
    "    while game:\n",
    "        #Player 1 Turn\n",
    "        display_board(board)\n",
    "        position = player_choice(board)\n",
    "        place_marker(board, player1, position)\n",
    "        if win_check(board, player1):\n",
    "            display_board(board)\n",
    "            print(f'{player1} won the game')\n",
    "            game = False\n",
    "            break\n",
    "        if full_board_check(board):\n",
    "            display_board(board)\n",
    "            print('draw match')\n",
    "            game = False\n",
    "            break\n",
    "            \n",
    "        # Player2's turn.\n",
    "        display_board(board)\n",
    "        position = player_choice(board)\n",
    "        place_marker(board, player2, position)\n",
    "        if win_check(board, player2):\n",
    "            display_board(board)\n",
    "            print(f'{player2} won the game')\n",
    "            game = False\n",
    "            break\n",
    "        if full_board_check(board):\n",
    "            display_board(board) \n",
    "            print('draw match') \n",
    "            game=False\n",
    "            break\n",
    "            \n",
    "            \n",
    "            \n",
    "\n",
    "    if not replay():\n",
    "        break"
   ]
  }
 ],
 "metadata": {
  "colab": {
   "name": "tic_tac_toe.ipynb",
   "provenance": []
  },
  "kernelspec": {
   "display_name": "Python 3",
   "language": "python",
   "name": "python3"
  },
  "language_info": {
   "codemirror_mode": {
    "name": "ipython",
    "version": 3
   },
   "file_extension": ".py",
   "mimetype": "text/x-python",
   "name": "python",
   "nbconvert_exporter": "python",
   "pygments_lexer": "ipython3",
   "version": "3.8.8"
  }
 },
 "nbformat": 4,
 "nbformat_minor": 4
}
